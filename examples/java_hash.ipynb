{
 "cells": [
  {
   "cell_type": "code",
   "execution_count": null,
   "metadata": {},
   "outputs": [],
   "source": [
    "import sys\n",
    "sys.path.append(\"C:\\\\Users\\\\espuser\\\\z3_splash_class-master\\\\z3-4.5.0-x64-win\\\\bin\\\\python\")\n",
    "\n",
    "from z3 import *\n",
    "init(\"C:\\\\Users\\\\espuser\\\\z3_splash_class-master\\\\z3-4.5.0-x64-win\\\\bin\\\\libz3.dll\")\n",
    "\n",
    "def java_hash(s):\n",
    "    m = 0\n",
    "    for c in s:\n",
    "        m *= 31\n",
    "        m += ord(c)\n",
    "    return m\n",
    "\n",
    "def z3_java_hash(s):\n",
    "    m = 0\n",
    "    for c in s:\n",
    "        m *= 31\n",
    "        m += c\n",
    "    return m\n",
    "\n",
    "a, b, c, d, e, f, g, h = Ints('a b c d e f g h')\n",
    "s = Solver()\n",
    "s.add(And(a <= ord('z'), ord('a') <= a))\n",
    "s.add(And(b <= ord('z'), ord('a') <= b))\n",
    "s.add(And(c <= ord('z'), ord('a') <= c))\n",
    "s.add(And(d <= ord('z'), ord('a') <= d))\n",
    "s.add(And(e <= ord('z'), ord('a') <= e))\n",
    "s.add(And(f <= ord('z'), ord('a') <= f))\n",
    "s.add(And(g <= ord('z'), ord('a') <= g))\n",
    "s.add(And(h <= ord('z'), ord('a') <= h))\n",
    "s.add(z3_java_hash([a,b,c,d,e,f,g,h]) == 3229186608006)\n",
    "\n",
    "print(s.check())\n",
    "m = s.model()\n",
    "print(m)\n",
    "password = chr(m[a].as_long()) + chr(m[b].as_long()) + chr(m[c].as_long()) + chr(m[d].as_long()) + chr(m[e].as_long()) + chr(m[f].as_long()) + chr(m[g].as_long()) + chr(m[h].as_long())\n",
    "print(password)"
   ]
  },
  {
   "cell_type": "code",
   "execution_count": null,
   "metadata": {},
   "outputs": [],
   "source": []
  }
 ],
 "metadata": {
  "kernelspec": {
   "display_name": "Python 3",
   "language": "python",
   "name": "python3"
  },
  "language_info": {
   "codemirror_mode": {
    "name": "ipython",
    "version": 3
   },
   "file_extension": ".py",
   "mimetype": "text/x-python",
   "name": "python",
   "nbconvert_exporter": "python",
   "pygments_lexer": "ipython3",
   "version": "3.6.2"
  }
 },
 "nbformat": 4,
 "nbformat_minor": 2
}
