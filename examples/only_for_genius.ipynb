{
 "cells": [
  {
   "cell_type": "code",
   "execution_count": null,
   "metadata": {},
   "outputs": [],
   "source": [
    "import sys\n",
    "sys.path.append(\"C:\\\\Users\\\\espuser\\\\z3_splash_class-master\\\\z3-4.5.0-x64-win\\\\bin\\\\python\")\n",
    "\n",
    "from z3 import *\n",
    "init(\"C:\\\\Users\\\\espuser\\\\z3_splash_class-master\\\\z3-4.5.0-x64-win\\\\bin\\\\libz3.dll\")\n",
    "\n",
    "circle, square, triangle = Ints('circle square triangle')\n",
    "s = Solver()\n",
    "s.add(circle + circle == 10)\n",
    "s.add(circle * square + square == 12)\n",
    "s.add(circle * square - triangle * circle == circle)\n",
    "print(s.check())\n",
    "print(s.model())"
   ]
  }
 ],
 "metadata": {
  "kernelspec": {
   "display_name": "Python 3",
   "language": "python",
   "name": "python3"
  },
  "language_info": {
   "codemirror_mode": {
    "name": "ipython",
    "version": 3
   },
   "file_extension": ".py",
   "mimetype": "text/x-python",
   "name": "python",
   "nbconvert_exporter": "python",
   "pygments_lexer": "ipython3",
   "version": "3.6.2"
  }
 },
 "nbformat": 4,
 "nbformat_minor": 2
}
