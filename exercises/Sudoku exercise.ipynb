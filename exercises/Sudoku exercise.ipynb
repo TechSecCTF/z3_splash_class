{
 "cells": [
  {
   "cell_type": "code",
   "execution_count": 40,
   "metadata": {},
   "outputs": [
    {
     "name": "stdout",
     "output_type": "stream",
     "text": [
      "['.5.1.6...',\n",
      " '...2....6',\n",
      " '9.6..5..8',\n",
      " '.2.....7.',\n",
      " '..3......',\n",
      " '....4.5..',\n",
      " '.7..5...9',\n",
      " '19.3..8..',\n",
      " '.3..8....']\n",
      "count: 1\n",
      "[[8, 5, 2, 1, 7, 6, 9, 3, 4],\n",
      " [3, 4, 7, 2, 9, 8, 1, 5, 6],\n",
      " [9, 1, 6, 4, 3, 5, 7, 2, 8],\n",
      " [5, 2, 9, 8, 6, 3, 4, 7, 1],\n",
      " [4, 8, 3, 5, 1, 7, 6, 9, 2],\n",
      " [7, 6, 1, 9, 4, 2, 5, 8, 3],\n",
      " [2, 7, 8, 6, 5, 1, 3, 4, 9],\n",
      " [1, 9, 5, 3, 2, 4, 8, 6, 7],\n",
      " [6, 3, 4, 7, 8, 9, 2, 1, 5]]\n",
      "count: 2\n",
      "[[2, 5, 8, 1, 7, 6, 9, 3, 4],\n",
      " [3, 4, 7, 2, 9, 8, 1, 5, 6],\n",
      " [9, 1, 6, 4, 3, 5, 7, 2, 8],\n",
      " [5, 2, 9, 8, 6, 3, 4, 7, 1],\n",
      " [4, 8, 3, 5, 1, 7, 6, 9, 2],\n",
      " [7, 6, 1, 9, 4, 2, 5, 8, 3],\n",
      " [8, 7, 2, 6, 5, 1, 3, 4, 9],\n",
      " [1, 9, 5, 3, 2, 4, 8, 6, 7],\n",
      " [6, 3, 4, 7, 8, 9, 2, 1, 5]]\n"
     ]
    }
   ],
   "source": [
    "from z3 import *\n",
    "import itertools\n",
    "from pprint import *\n",
    "\n",
    "\n",
    "s = Solver()\n",
    "cells=[[Int('cell_%d_%d' % (r, c)) for c in range(9)] for r in range(9)]\n",
    "\n",
    "# game = \"\"\"\n",
    "# . . 5 |3 . . |. . . \n",
    "# 8 . . |. . . |. 2 . \n",
    "# . 7 . |. 1 . |5 . . \n",
    "# ------+------+------\n",
    "# 4 . . |. . 5 |3 . . \n",
    "# . 1 . |. 7 . |. . 6 \n",
    "# . . 3 |2 . . |. 8 . \n",
    "# ------+------+------\n",
    "# . 6 . |5 . . |. . 9 \n",
    "# . . 4 |. . . |. 3 . \n",
    "# . . . |. . 9 |7 . . \n",
    "# \"\"\"\n",
    "\n",
    "\n",
    "game = game.replace(\"|\", \"\").replace(\"-\", \"\").replace(\"+\", \"\")\n",
    "game = [row.split() for row in game.split(\"\\n\") if row != '']\n",
    "\n",
    "# Add cell constraints\n",
    "\n",
    "# Create row constraints\n",
    "\n",
    "# Create column constraints        \n",
    "\n",
    "# Create subsquare constraints\n",
    "\n",
    "\n",
    "s.check()\n",
    "s.model()\n",
    "solved = [['.' for i in range(9)] for j in range(9)]\n",
    "for i in range(9):\n",
    "    for j in range(9):\n",
    "        a = m.evaluate(cells[i][j])\n",
    "        solved[i][j] = a\n",
    "pprint(solved)\n"
   ]
  },
  {
   "cell_type": "code",
   "execution_count": null,
   "metadata": {},
   "outputs": [],
   "source": []
  }
 ],
 "metadata": {
  "kernelspec": {
   "display_name": "Python 3",
   "language": "python",
   "name": "python3"
  },
  "language_info": {
   "codemirror_mode": {
    "name": "ipython",
    "version": 3
   },
   "file_extension": ".py",
   "mimetype": "text/x-python",
   "name": "python",
   "nbconvert_exporter": "python",
   "pygments_lexer": "ipython3",
   "version": "3.6.3"
  }
 },
 "nbformat": 4,
 "nbformat_minor": 2
}
