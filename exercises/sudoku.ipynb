{
 "cells": [
  {
   "cell_type": "code",
   "execution_count": 2,
   "metadata": {},
   "outputs": [
    {
     "name": "stdout",
     "output_type": "stream",
     "text": [
      "[[-3, -4, -2, -1, 2, -6, 0, -5, 1],\n",
      " [0, -5, -1, -8, -7, -3, -2, -4, -6],\n",
      " [-4, -8, 0, -2, -7, -5, -1, -3, -6],\n",
      " [1, -1, -4, -6, 0, 2, -3, -2, -5],\n",
      " [5, 2, -1, 1, -3, -2, 0, 3, 4],\n",
      " [-2, -1, -4, -3, 2, -5, 0, 3, 1],\n",
      " [-7, 0, -8, -5, -2, -1, -6, -4, -3],\n",
      " [0, -2, 3, 4, 5, 1, -1, 2, 6],\n",
      " [-1, 3, 1, 0, -2, 6, 2, 5, 4]]\n"
     ]
    }
   ],
   "source": [
    "from z3 import *\n",
    "import itertools\n",
    "from pprint import *\n",
    "\n",
    "\n",
    "s = Solver()\n",
    "cells=[[Int('cell_%d_%d' % (r, c)) for c in range(9)] for r in range(9)]\n",
    "\n",
    "game = \"\"\"\n",
    ". . 5 |3 . . |. . . \n",
    "8 . . |. . . |. 2 . \n",
    ". 7 . |. 1 . |5 . . \n",
    "------+------+------\n",
    "4 . . |. . 5 |3 . . \n",
    ". 1 . |. 7 . |. . 6 \n",
    ". . 3 |2 . . |. 8 . \n",
    "------+------+------\n",
    ". 6 . |5 . . |. . 9 \n",
    ". . 4 |. . . |. 3 . \n",
    ". . . |. . 9 |7 . . \n",
    "\"\"\"\n",
    "\n",
    "\n",
    "game = game.replace(\"|\", \"\").replace(\"-\", \"\").replace(\"+\", \"\")\n",
    "game = [row.split() for row in game.split(\"\\n\") if row != '']\n",
    "\n",
    "# Add cell constraints\n",
    "\n",
    "# Create row constraints\n",
    "for i in range(9):\n",
    "    s.add(Distinct(cells[i]))\n",
    "\n",
    "# Create column constraints\n",
    "\n",
    "# Create subsquare constraints\n",
    "\n",
    "s.check()\n",
    "m = s.model()\n",
    "solved = [['.' for i in range(9)] for j in range(9)]\n",
    "for i in range(9):\n",
    "    for j in range(9):\n",
    "        a = m.evaluate(cells[i][j])\n",
    "        solved[i][j] = a\n",
    "pprint(solved)\n"
   ]
  },
  {
   "cell_type": "code",
   "execution_count": null,
   "metadata": {},
   "outputs": [],
   "source": []
  }
 ],
 "metadata": {
  "kernelspec": {
   "display_name": "Python 2",
   "language": "python",
   "name": "python2"
  },
  "language_info": {
   "codemirror_mode": {
    "name": "ipython",
    "version": 2
   },
   "file_extension": ".py",
   "mimetype": "text/x-python",
   "name": "python",
   "nbconvert_exporter": "python",
   "pygments_lexer": "ipython2",
   "version": "2.7.12"
  }
 },
 "nbformat": 4,
 "nbformat_minor": 2
}
