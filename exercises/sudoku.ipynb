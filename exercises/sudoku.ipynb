{
 "cells": [
  {
   "cell_type": "code",
   "execution_count": null,
   "metadata": {},
   "outputs": [],
   "source": [
    "import sys\n",
    "sys.path.append(\"C:\\\\Users\\\\espuser\\\\z3_splash_class\\\\z3-4.5.0-x64-win\\\\z3-4.5.0-x64-win\\\\bin\\\\python\")\n",
    "\n",
    "\n",
    "from z3 import *\n",
    "import itertools\n",
    "from pprint import *\n",
    "\n",
    "\n",
    "s = Solver()\n",
    "cells=[[Int('cell_%d_%d' % (r, c)) for c in range(9)] for r in range(9)]\n",
    "\n",
    "game = \"\"\"\n",
    ". . 5 |3 . . |. . . \n",
    "8 . . |. . . |. 2 . \n",
    ". 7 . |. 1 . |5 . . \n",
    "------+------+------\n",
    "4 . . |. . 5 |3 . . \n",
    ". 1 . |. 7 . |. . 6 \n",
    ". . 3 |2 . . |. 8 . \n",
    "------+------+------\n",
    ". 6 . |5 . . |. . 9 \n",
    ". . 4 |. . . |. 3 . \n",
    ". . . |. . 9 |7 . . \n",
    "\"\"\"\n",
    "\n",
    "\n",
    "game = game.replace(\"|\", \"\").replace(\"-\", \"\").replace(\"+\", \"\")\n",
    "game = [row.split() for row in game.split(\"\\n\") if row != '']\n",
    "\n",
    "# Add cell constraints\n",
    "\n",
    "# Create row constraints\n",
    "for i in range(9):\n",
    "    s.add(Distinct(cells[i]))\n",
    "\n",
    "# Create column constraints\n",
    "\n",
    "# Create subsquare constraints\n",
    "\n",
    "s.check()\n",
    "m = s.model()\n",
    "solved = [['.' for i in range(9)] for j in range(9)]\n",
    "for i in range(9):\n",
    "    for j in range(9):\n",
    "        a = m.evaluate(cells[i][j])\n",
    "        solved[i][j] = a\n",
    "pprint(solved)\n"
   ]
  },
  {
   "cell_type": "code",
   "execution_count": null,
   "metadata": {},
   "outputs": [],
   "source": []
  }
 ],
 "metadata": {
  "kernelspec": {
   "display_name": "Python 2",
   "language": "python",
   "name": "python2"
  },
  "language_info": {
   "codemirror_mode": {
    "name": "ipython",
    "version": 2
   },
   "file_extension": ".py",
   "mimetype": "text/x-python",
   "name": "python",
   "nbconvert_exporter": "python",
   "pygments_lexer": "ipython2",
   "version": "2.7.14"
  }
 },
 "nbformat": 4,
 "nbformat_minor": 2
}
